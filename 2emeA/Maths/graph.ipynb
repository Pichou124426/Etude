{
 "cells": [
  {
   "cell_type": "code",
   "execution_count": 1,
   "id": "c046049a",
   "metadata": {},
   "outputs": [
    {
     "name": "stdout",
     "output_type": "stream",
     "text": [
      "defaultdict(<class 'list'>, {1: [2], 2: [3], 3: [1, 4], 4: [3], 5: [6], 6: []})\n",
      "{1: 1, 2: 1, 3: 2, 4: 1, 5: 0, 6: 1}\n",
      "defaultdict(<class 'list'>, {1: [2, 3], 2: [1, 3, 4], 3: [2, 1], 4: [2, 5], 5: [4, 6], 6: [5]})\n",
      "{1: 2, 2: 3, 3: 2, 4: 2, 5: 2, 6: 1}\n"
     ]
    }
   ],
   "source": [
    "from collections import defaultdict\n",
    "\n",
    "def build_digraph(edges):\n",
    "    g = defaultdict(list)\n",
    "    for u, v in edges:\n",
    "        g[u].append(v)\n",
    "        g.setdefault(v, g[v])   # assure v présent même sans sortants\n",
    "    return g\n",
    "\n",
    "def build_digraph_not_oriented(edges):\n",
    "    g = defaultdict(list)\n",
    "    for u, v in edges:\n",
    "        g[u].append(v)\n",
    "        g.setdefault(v, g[v])   # assure v présent même sans sortants\n",
    "        g[v].append(u)\n",
    "        g.setdefault(u, g[u])   # assure u présent même sans sortants\n",
    "    return g\n",
    "\n",
    "def indegrees(g):\n",
    "    indeg = {u:0 for u in g}\n",
    "    for u in g:\n",
    "        for v in g[u]:\n",
    "            indeg[v] = indeg.get(v,0) + 1\n",
    "    return indeg\n",
    "\n",
    "graph = build_digraph([(1,2),(2,3),(3,1),(4,3),(3,4),(5,6)])\n",
    "print(graph )\n",
    "print(indegrees(graph))\n",
    "\n",
    "graph2 = build_digraph_not_oriented([(1,2),(2,3),(3,1),(4,2),(4,5),(5,6)])\n",
    "print(graph2 )\n",
    "print(indegrees(graph2))"
   ]
  },
  {
   "cell_type": "markdown",
   "id": "f9d54c93",
   "metadata": {},
   "source": [
    "Parcour en largeur"
   ]
  },
  {
   "cell_type": "code",
   "execution_count": 2,
   "id": "41aeb9fc",
   "metadata": {},
   "outputs": [
    {
     "name": "stdout",
     "output_type": "stream",
     "text": [
      "{1: 0, 2: 1, 3: 1, 4: 2, 5: 3, 6: 4}\n",
      "[1]\n",
      "[1, 2]\n",
      "[1, 3]\n",
      "[1, 2, 4]\n",
      "[1, 2, 4, 5]\n",
      "[1, 2, 4, 5, 6]\n"
     ]
    }
   ],
   "source": [
    "from collections import deque\n",
    "\n",
    "def bfs(g, s):\n",
    "    dist = {s: 0}\n",
    "    parent = {s: None}\n",
    "    q = deque([s])\n",
    "    while q:\n",
    "        u = q.popleft()\n",
    "        for v in g[u]:\n",
    "            if v not in dist:\n",
    "                dist[v] = dist[u] + 1\n",
    "                parent[v] = u\n",
    "                q.append(v)\n",
    "    return dist, parent\n",
    "b,p=bfs(graph2, 1)\n",
    "print(b)\n",
    "\n",
    "def path(parent, t):\n",
    "    if t not in parent: return None\n",
    "    out=[]\n",
    "    while t is not None:\n",
    "        out.append(t); t = parent[t]\n",
    "    return list(reversed(out))\n",
    "\n",
    "for i in [1,2,3,4,5,6]:\n",
    "    print(path(p,i))\n",
    "# parcours en largeur d'un graphe orienté"
   ]
  },
  {
   "cell_type": "markdown",
   "id": "58030d83",
   "metadata": {},
   "source": [
    "parcour en profondeur"
   ]
  },
  {
   "cell_type": "code",
   "execution_count": 3,
   "id": "b1cd331a",
   "metadata": {},
   "outputs": [
    {
     "name": "stdout",
     "output_type": "stream",
     "text": [
      "[1, 2, 3, 4, 5, 6]\n",
      "[3, 2, 1, 4, 5, 6]\n",
      "stack: [1]\n",
      "stack: [1, 2]\n",
      "stack: [1, 2, 3]\n",
      "stack: [1, 2]\n",
      "stack: [1, 2, 4]\n",
      "stack: [1, 2, 4, 5]\n",
      "stack: [1, 2, 4, 5, 6]\n",
      "stack: [1, 2, 4, 5]\n",
      "stack: [1, 2, 4]\n",
      "stack: [1, 2]\n",
      "stack: [1]\n",
      "seen: {1, 2, 3, 4, 5, 6}\n",
      "[(1, 2), (2, 3), (2, 4), (4, 5), (5, 6)]\n"
     ]
    }
   ],
   "source": [
    "def dfs_iter(g, s):\n",
    "    seen = set()\n",
    "    order = []\n",
    "    st = [s]\n",
    "    while st:\n",
    "        u = st.pop()\n",
    "        if u in seen: \n",
    "            continue\n",
    "        seen.add(u)\n",
    "        order.append(u)\n",
    "        # empiler dans l'ordre inverse pour parcourir g[u] de gauche à droite\n",
    "        st.extend(reversed(g[u]))\n",
    "    return order\n",
    "\n",
    "order = dfs_iter(graph2, 1)\n",
    "print(order);\n",
    "order = dfs_iter(graph2, 3)\n",
    "print(order);\n",
    "\n",
    "def dfs_iter(g, s):\n",
    "    seen = set()\n",
    "    parent = []\n",
    "    st = [s]\n",
    "    while st:\n",
    "        print(\"stack:\", st)   \n",
    "        u = st.pop()\n",
    "        if u not in seen:\n",
    "            seen.add(u)\n",
    "        for v in g[u]:\n",
    "            if v not in seen:\n",
    "                parent.append((u,v))\n",
    "                st.append(u)  # pour revenir à u après v\n",
    "                st.append(v)\n",
    "                break\n",
    "                \n",
    "\n",
    "    print(\"seen:\", seen)\n",
    "    return parent\n",
    "\n",
    "p = dfs_iter(graph2, 1)\n",
    "print(p)\n"
   ]
  }
 ],
 "metadata": {
  "kernelspec": {
   "display_name": "base",
   "language": "python",
   "name": "python3"
  },
  "language_info": {
   "codemirror_mode": {
    "name": "ipython",
    "version": 3
   },
   "file_extension": ".py",
   "mimetype": "text/x-python",
   "name": "python",
   "nbconvert_exporter": "python",
   "pygments_lexer": "ipython3",
   "version": "3.13.7"
  }
 },
 "nbformat": 4,
 "nbformat_minor": 5
}
